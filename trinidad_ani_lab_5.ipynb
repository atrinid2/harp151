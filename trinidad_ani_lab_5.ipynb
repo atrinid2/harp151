{
 "cells": [
  {
   "cell_type": "code",
   "execution_count": 2,
   "id": "ed838d9d",
   "metadata": {},
   "outputs": [],
   "source": [
    "#Question 1\n",
    "\n",
    "from selenium import webdriver\n",
    "from selenium.webdriver.chrome.service import Service\n",
    "from selenium.webdriver.common.keys import Keys\n",
    "from selenium.webdriver.common.by import By\n",
    "from selenium.webdriver.support.ui import WebDriverWait\n",
    "from selenium.webdriver.support import expected_conditions as EC\n",
    "\n",
    "PATH = Service(\"C:\\Program Files (x86)\\chromedriver.exe\") #this locates the path of the web driver\n",
    "driver = webdriver.Chrome(service = PATH) #this establishes the driver\n",
    "\n",
    "driver.get(\"https://techwithtim.net/\") #this gets the website\n",
    "link = driver.find_element(By.LINK_TEXT, \"Python Programming\") #here, \"find_element\" is searching for the part of the website that has linked text saying \"Python Programming\" so we can access it\n",
    "link.click() #this is used to actually move to the Python Programming section\n",
    "\n",
    "try: #this is making sure the element the element we want to select next has loaded in, if it has, then we click it\n",
    "    element = WebDriverWait(driver, 10).until(\n",
    "        EC.presence_of_element_located((By.LINK_TEXT, \"Beginner Python Tutorials\")) #waits until the precense of this specific element is located, specified by \"By.LINK.TEXT\" and further specified by \"\"Beginner Python Tutorials\"\" \n",
    "    )\n",
    "    element.click() #clicls on the element that is specified\n",
    "    \n",
    "    #now, this runs if the first goes through. it will click the button that says \"start programming\" if it is laoded in. the id is taken from inspect element\n",
    "    element = WebDriverWait(driver, 10).until(\n",
    "     \n",
    "        EC.presence_of_element_located((By.ID, \"sow-button-19310003\")) #waits until the precense of this specific element is located, specified by \"By.ID\" and further specified by \"\"sow-button-19310003\"\" \n",
    "    )\n",
    "    element.click()\n",
    "    \n",
    "    #driver is used to bring us back\n",
    "    driver.back()\n",
    "    driver.back()\n",
    "    driver.back()\n",
    "    \n",
    "    #and bring us forward\n",
    "    \n",
    "    driver.forward()\n",
    "    driver.forward()\n",
    "    \n",
    "except:\n",
    "    driver.quit() #quits and clicks out of the website\n"
   ]
  },
  {
   "cell_type": "code",
   "execution_count": 25,
   "id": "52283410",
   "metadata": {},
   "outputs": [
    {
     "name": "stdout",
     "output_type": "stream",
     "text": [
      "36\n",
      "['https://en.wikipedia.org/wiki/File:Cat_August_2010-4.jpg', 'https://en.wikipedia.org/wiki/File:Gustav_chocolate.jpg', 'https://en.wikipedia.org/wiki/File:Orange_tabby_cat_sitting_on_fallen_leaves-Hisashi-01A.jpg', 'https://en.wikipedia.org/wiki/File:Siam_lilacpoint.jpg', 'https://en.wikipedia.org/wiki/File:Felis_catus-cat_on_snow.jpg', 'https://en.wikipedia.org/wiki/File:Sheba1.JPG', 'https://en.wikipedia.org/wiki/File:Wild-domestic-hybrid_cat_skulls.png', 'https://en.wikipedia.org/wiki/File:Tomb_of_Nakht_(7).jpg', 'https://en.wikipedia.org/wiki/File:Scheme_cat_anatomy.svg', 'https://en.wikipedia.org/wiki/File:Cat_skull.jpg', 'https://en.wikipedia.org/wiki/File:Cat_yawn_with_exposed_teeth_and_claws.jpg', 'https://en.wikipedia.org/wiki/File:Shed_domestic_cat_claw_sheaths.tiff', 'https://en.wikipedia.org/wiki/File:TapetumLucidum.JPG', 'https://en.wikipedia.org/wiki/File:Tabby_cat_with_visible_nictitating_membrane.jpg', 'https://en.wikipedia.org/wiki/File:Kittyply_edit1.jpg', 'https://en.wikipedia.org/wiki/File:Domestic_Cat_Face_Shot.jpg', 'https://en.wikipedia.org/wiki/File:Cat_tongue_macro.jpg', 'https://en.wikipedia.org/wiki/File:Gato_enervado_pola_presencia_dun_can.jpg', 'https://en.wikipedia.org/wiki/File:Kot_z_mysz%C4%85.jpg', 'https://en.wikipedia.org/wiki/File:Cats_having_sex_in_Israel.jpg', 'https://en.wikipedia.org/wiki/File:Radiography_of_a_pregnant_cat.jpg', 'https://en.wikipedia.org/wiki/File:1dayoldkitten.JPG', 'https://en.wikipedia.org/wiki/File:Feral_cat_Virginia_crop.jpg', 'https://en.wikipedia.org/wiki/File:Mainecoon-lap.jpg', 'https://en.wikipedia.org/wiki/File:Louvre_egyptologie_21.jpg', 'https://en.wikipedia.org/wiki/File:Cat_birds_MAN_Napoli_Inv9993.jpg', 'https://en.wikipedia.org/wiki/File:PSM_V37_D105_English_tabby_cat.jpg', 'https://en.wikipedia.org/wiki/File:Black_Cat_(7983739954).jpg', 'https://en.wikipedia.org/wiki/File:Cat03.jpg', 'https://en.wikipedia.org/wiki/File:Okapi2.jpg', 'https://en.wikipedia.org/wiki/File:Wapiti_from_Wagon_Trails.jpg', 'https://en.wikipedia.org/wiki/File:Wiktionary-logo-en-v2.svg', 'https://en.wikipedia.org/wiki/File:Wikispecies-logo.svg', 'https://en.wikipedia.org/wiki/File:Commons-logo.svg', 'https://en.wikipedia.org/wiki/File:Wikibooks-logo-en-noslogan.svg', 'https://en.wikipedia.org/wiki/File:Wikiquote-logo.svg']\n"
     ]
    }
   ],
   "source": [
    "# Question 2 \n",
    "#idea to use XPATH comes from here https://github.com/Praveen76/Web-Scraping-using-Selenium-Python/blob/master/Image%20Web-Scraping_Part2.ipynb\n",
    "\n",
    "import csv\n",
    "\n",
    "PATH = Service(\"C:\\Program Files (x86)\\chromedriver.exe\")\n",
    "driver = webdriver.Chrome(service = PATH) \n",
    "driver.get(\"https://www.wikipedia.org/\")\n",
    "search = driver.find_element(By.ID, \"searchInput\") \n",
    "search.clear\n",
    "search.send_keys(\"cat\") \n",
    "search.send_keys(Keys.RETURN)\n",
    "\n",
    "csv_file = open(\"Act_Cat2.csv\", \"w\", newline = \"\", encoding=\"utf-8\")\n",
    "csv_writer = csv.writer(csv_file)\n",
    "csv_writer.writerow([\"link\"])\n",
    "\n",
    "images = []\n",
    "\n",
    "try:\n",
    "    main = WebDriverWait(driver, 10).until(  \n",
    "    EC.presence_of_element_located((By.CLASS_NAME, \"image\"))\n",
    "    )\n",
    "    \n",
    "    image = driver.find_elements(By.XPATH, \"//a[contains(@class,'image')]\")\n",
    "    counter = 0\n",
    "    for i in image:\n",
    "        #bonus\n",
    "        act_image = i.get_attribute(\"href\")\n",
    "        images.append(act_image)\n",
    "        counter += 1\n",
    "     \n",
    "    for i in images:\n",
    "        csv_writer.writerow([i])   \n",
    "    print(counter)\n",
    "    print(images)\n",
    "finally:\n",
    "        driver.quit()\n",
    "        \n",
    "csv_file.close()"
   ]
  },
  {
   "cell_type": "code",
   "execution_count": null,
   "id": "47d9e565",
   "metadata": {},
   "outputs": [],
   "source": []
  },
  {
   "cell_type": "code",
   "execution_count": null,
   "id": "9ea7468a",
   "metadata": {},
   "outputs": [],
   "source": []
  },
  {
   "cell_type": "code",
   "execution_count": null,
   "id": "87edad7e",
   "metadata": {},
   "outputs": [],
   "source": []
  }
 ],
 "metadata": {
  "kernelspec": {
   "display_name": "Python 3 (ipykernel)",
   "language": "python",
   "name": "python3"
  },
  "language_info": {
   "codemirror_mode": {
    "name": "ipython",
    "version": 3
   },
   "file_extension": ".py",
   "mimetype": "text/x-python",
   "name": "python",
   "nbconvert_exporter": "python",
   "pygments_lexer": "ipython3",
   "version": "3.9.12"
  }
 },
 "nbformat": 4,
 "nbformat_minor": 5
}
