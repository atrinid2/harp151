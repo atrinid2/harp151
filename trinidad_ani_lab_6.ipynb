{
 "cells": [
  {
   "cell_type": "code",
   "execution_count": 2,
   "id": "385288c0",
   "metadata": {},
   "outputs": [],
   "source": [
    "from selenium import webdriver\n",
    "from selenium.webdriver.chrome.service import Service\n",
    "from selenium.webdriver.common.keys import Keys\n",
    "from selenium.webdriver.common.by import By\n",
    "from selenium.webdriver.support.ui import WebDriverWait\n",
    "from selenium.webdriver.support import expected_conditions as EC\n",
    "from selenium.webdriver.common.action_chains import ActionChains\n",
    "\n",
    "from bs4 import BeautifulSoup\n",
    "import requests\n",
    "\n",
    "import csv"
   ]
  },
  {
   "cell_type": "code",
   "execution_count": 3,
   "id": "b3b73b19",
   "metadata": {},
   "outputs": [],
   "source": [
    "PATH = Service(\"C:\\Program Files (x86)\\chromedriver.exe\")\n",
    "driver = webdriver.Chrome(service = PATH) \n",
    "driver.get(\"https://www.binghamton-ny.gov/home\")"
   ]
  },
  {
   "cell_type": "code",
   "execution_count": null,
   "id": "1dfbd476",
   "metadata": {},
   "outputs": [],
   "source": [
    "menu = driver.find_element(By.XPATH, \"//*[@id='dropdownrootitem3']/a\")\n",
    "submenu = driver.find_element(By.XPATH, \"//*[@id='dropdownrootitem3']/div/div/ul[1]/li/a\")\n",
    "\n",
    "actions = ActionChains(driver)\n",
    "actions.move_to_element(menu)\n",
    "actions.click(menu)\n",
    "actions.click(submenu)\n",
    "actions.perform()"
   ]
  },
  {
   "cell_type": "code",
   "execution_count": 4,
   "id": "b45efbc5",
   "metadata": {},
   "outputs": [],
   "source": [
    "import csv\n",
    "csv_file = open(\"trindad_ani_lab_6.csv\", \"w\", newline = \"\", encoding=\"utf-8\")\n",
    "csv_writer = csv.writer(csv_file)\n",
    "csv_writer.writerow([\"Jobs\", \"Type\", \"Application Deadline\", \"Salary\"])\n",
    "\n",
    "PATH = Service(\"C:\\Program Files (x86)\\chromedriver.exe\")\n",
    "driver = webdriver.Chrome(service = PATH) \n",
    "\n",
    "source = requests.get(\"https://www.binghamton-ny.gov/government/departments/personnel-civil-service/employment\").text\n",
    "soup = BeautifulSoup(source, \"lxml\")\n",
    "\n",
    "driver.get(\"https://www.binghamton-ny.gov/home\")\n",
    "menu = driver.find_element(By.XPATH, \"//*[@id='dropdownrootitem3']/a\")\n",
    "submenu = driver.find_element(By.XPATH, \"//*[@id='dropdownrootitem3']/div/div/ul[1]/li/a\")\n",
    "\n",
    "actions = ActionChains(driver)\n",
    "actions.move_to_element(menu)\n",
    "actions.click(menu)\n",
    "actions.click(submenu)\n",
    "actions.perform()\n",
    "\n",
    "\n",
    "try:\n",
    "    main = WebDriverWait(driver, 10).until(\n",
    "        EC.element_to_be_clickable((By.XPATH, \"//*[@id='widget_4_33_127']/ul/li[16]/a\" ))\n",
    "    )\n",
    "    main.click()\n",
    "    employ = driver.find_element(By.XPATH, \"//*[@id='leftNav_1038_0_145']/ul/li/ul/li[14]/ul/li/a\")\n",
    "    employ.click()\n",
    "    cols = len(driver.find_elements(By.XPATH, \"//*[@id='ColumnUserControl4']/div[2]/table/tbody/tr\"))\n",
    "    rows = len(driver.find_elements(By.XPATH, \"//*[@id='ColumnUserControl4']/div[2]/table/tbody/tr[1]/td\"))\n",
    "    jobs = []\n",
    "    types = []\n",
    "    app = []\n",
    "    salary = []\n",
    "    for r in range(1, rows+11):\n",
    "        csv_writer.writerow([driver.find_element(By.XPATH, \"//*[@id='ColumnUserControl4']/div[2]/table/tbody/tr[\"+str(r)+\"]/td[\"+str(1)+\"]\").text,\n",
    "                             driver.find_element(By.XPATH, \"//*[@id='ColumnUserControl4']/div[2]/table/tbody/tr[\"+str(r)+\"]/td[\"+str(2)+\"]\").text,\n",
    "                             driver.find_element(By.XPATH, \"//*[@id='ColumnUserControl4']/div[2]/table/tbody/tr[\"+str(r)+\"]/td[\"+str(3)+\"]\").text,\n",
    "                             driver.find_element(By.XPATH, \"//*[@id='ColumnUserControl4']/div[2]/table/tbody/tr[\"+str(r)+\"]/td[\"+str(4)+\"]\").text])\n",
    "\n",
    "finally:\n",
    "    driver.quit()\n",
    "    \n",
    "\n",
    "csv_file.close()\n"
   ]
  },
  {
   "cell_type": "code",
   "execution_count": 5,
   "id": "8161f15f",
   "metadata": {},
   "outputs": [
    {
     "name": "stdout",
     "output_type": "stream",
     "text": [
      "                                                                Jobs       Type Application Deadline                      Salary\n",
      "0                                             Animal Control Officer  Full Time    Open Until Filled         $45,228.00 per Year\n",
      "1                                                 Assistant Engineer  Full Time    Open Until Filled  $38,127 - $45,062 per Year\n",
      "2                                              Building Inspector II  Full Time    Open Until Filled            $42,436 per Year\n",
      "3                                                      City Engineer  Full Time    Open Until Filled               Not Specified\n",
      "4                                                     Code Inspector  Full Time    Open Until Filled           $33,632 per Year*\n",
      "5                                       Commissioner of Public Works  Full Time    Open Until Filled               Not Specified\n",
      "6                                                     Crossing Guard  Part Time    Open Until Filled              $43.75 per Day\n",
      "7   Director of Police Department Community Outreach and Recruitment  Full Time    Open Until Filled         $66,950.00 per Year\n",
      "8                          First Deputy Commissioner of Public Works  Full Time    Open Until Filled         $61,730.00 per Year\n",
      "9                          Laboratory Technician (Sanitary Services)  Full Time    Open Until Filled         $29,406.00 per Year\n",
      "10                                                  Staff Accountant  Full Time    Open Until Filled      Up to $59,000 per Year\n",
      "11                                                 Street Maintainer  Full Time    Open Until Filled             $18.36 Per Hour\n",
      "12                                  Water & Sewer Systems Maintainer  Full Time    Open Until Filled             $20.71 per Hour\n",
      "13                                              Water Meter Repairer  Full Time    Open Until Filled             $19.11 per Hour\n"
     ]
    }
   ],
   "source": [
    "import pandas as pd\n",
    "\n",
    "file = pd.read_csv(\"trindad_ani_lab_6.csv\")\n",
    "print(file.to_string())\n",
    "\n"
   ]
  },
  {
   "cell_type": "code",
   "execution_count": null,
   "id": "51062000",
   "metadata": {},
   "outputs": [],
   "source": []
  }
 ],
 "metadata": {
  "kernelspec": {
   "display_name": "Python 3 (ipykernel)",
   "language": "python",
   "name": "python3"
  },
  "language_info": {
   "codemirror_mode": {
    "name": "ipython",
    "version": 3
   },
   "file_extension": ".py",
   "mimetype": "text/x-python",
   "name": "python",
   "nbconvert_exporter": "python",
   "pygments_lexer": "ipython3",
   "version": "3.9.12"
  }
 },
 "nbformat": 4,
 "nbformat_minor": 5
}
