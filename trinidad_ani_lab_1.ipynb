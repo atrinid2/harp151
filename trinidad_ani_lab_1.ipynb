{
 "cells": [
  {
   "cell_type": "code",
   "execution_count": 83,
   "id": "4e841e65",
   "metadata": {},
   "outputs": [
    {
     "name": "stdout",
     "output_type": "stream",
     "text": [
      "chestnut is the largest word.\n"
     ]
    }
   ],
   "source": [
    "#Question 1\n",
    "list1 = [\"apple\", \"chestnut\", \"gargoyle\", \"pandas\", \"sheep\", \"raptor\"]\n",
    "largest1 = list1[0]\n",
    "for i in range(0,6):\n",
    "    if len(list1[i]) > len(largest1):\n",
    "        largest1 = list1[i]\n",
    "                       \n",
    "print(largest1 + \" is the largest word.\")\n",
    "   \n",
    "    \n"
   ]
  },
  {
   "cell_type": "code",
   "execution_count": 85,
   "id": "2a7d185d",
   "metadata": {},
   "outputs": [
    {
     "name": "stdout",
     "output_type": "stream",
     "text": [
      "['SCATTERGRAMS', 'COEXISTS', 'CAUTERISE', 'CAPS', 'NONSECRETOR', 'BOVINE', 'MILLINGS']\n",
      "SCATTERGRAMS is the largest word.\n"
     ]
    }
   ],
   "source": [
    "#question 2 - how to import txt file learned here: https://www.geeksforgeeks.org/how-to-read-text-file-into-list-in-python/\n",
    "import random\n",
    "words = open(\"sowpods.txt\", \"r\")\n",
    "data = words.read()\n",
    "data_into_list = data.split(\"\\n\")\n",
    "ranwords = [] \n",
    "for i in range(0,7):\n",
    "    item = random.choice(data_into_list)\n",
    "    ranwords.append(item)\n",
    "    \n",
    "print(ranwords)\n",
    "\n",
    "largest = ranwords[0]\n",
    "for i in range(0,6):\n",
    "    if len(ranwords[i]) > len(largest):\n",
    "        largest = ranwords[i]\n",
    "print(largest + \" is the largest word.\")\n"
   ]
  },
  {
   "cell_type": "code",
   "execution_count": 12,
   "id": "13598618",
   "metadata": {},
   "outputs": [
    {
     "name": "stdout",
     "output_type": "stream",
     "text": [
      "[2, 'two']\n",
      "4\n"
     ]
    }
   ],
   "source": [
    "#Question 3\n",
    "\n",
    "exdict = {\"key\": 1,\n",
    "         \"key2\": 1,\n",
    "         \"key3\": 2,\n",
    "         \"key4\": 4}\n",
    "\n",
    "for i in exdict.copy():\n",
    "    if exdict[i] == 1:\n",
    "        exdict.pop(i)\n",
    "        \n",
    "for i in exdict:\n",
    "    if exdict[i] == 2:\n",
    "        exdict.update({i: [2, \"two\"]})\n",
    "\n",
    "for i in exdict:\n",
    "    print(exdict.get(i))\n"
   ]
  },
  {
   "cell_type": "code",
   "execution_count": 10,
   "id": "0d920747",
   "metadata": {},
   "outputs": [
    {
     "name": "stdout",
     "output_type": "stream",
     "text": [
      "3.0\n",
      "What is the reason for changing the name of this student?gender change\n",
      "What is the new name?Cody Zhu\n",
      "New birthday?3/12/2004\n",
      "Cody Zhu (changed: gender change), 3/12/2004\n"
     ]
    }
   ],
   "source": [
    "#question 4\n",
    "\n",
    "#i chose the school system\n",
    "# what i was thinking is when creating an instqance of the class, the user would input \"starting\" information and I would create methods to alter, subtract, or add onto this information\n",
    "#for classes, i'll premake a dictionary of classes and corresponding grades, this will be used in the GPA method\n",
    "# for the rest of the methods, i'll use user input to alter prexisting data\n",
    "class SchoolData:\n",
    "    def __init__(self, name, birthday, classes):\n",
    "        self.name = name\n",
    "        self.classes = classes\n",
    "        self.birthday = birthday\n",
    "        \n",
    "    def gpa(self):\n",
    "        aver = 0\n",
    "        num = 0\n",
    "        for i in self.classes:\n",
    "            aver = aver + self.classes[i]\n",
    "            num += 1\n",
    "        aver = aver/num\n",
    "        if aver >= 92 and aver <= 100:\n",
    "            return 4.0\n",
    "        elif aver >= 90 and aver < 92:\n",
    "            return 3.7\n",
    "        elif aver >= 87 and aver < 90:\n",
    "            return 3.3\n",
    "        elif aver >= 82 and aver < 87:\n",
    "            return 3.0\n",
    "        elif aver >= 80 and aver < 82:\n",
    "            return 2.7\n",
    "        elif aver >= 77 and aver < 80:\n",
    "            return 2.3\n",
    "        elif aver >= 72 and aver < 77:\n",
    "            return 2.0\n",
    "        elif aver >= 70 and aver <72:\n",
    "            return 1.7\n",
    "        elif aver >= 60 and aver < 70:\n",
    "            return 1.0\n",
    "        elif aver < 60:\n",
    "            return 0.0\n",
    "        \n",
    "    def changename(self):\n",
    "        reason = input(\"What is the reason for changing the name of this student?\")\n",
    "        newname = input(\"What is the new name?\")\n",
    "        self.name = newname + \" (changed: \" + reason + \")\"\n",
    "        \n",
    "    def changebirthday(self):\n",
    "        self.birthday = input(\"New birthday?\")\n",
    "        \n",
    "    def displayinfo(self):\n",
    "        \n",
    "        print(self.name + \", \" + self.birthday)\n",
    "        \n",
    "class1 = {\"English\": 100,\n",
    "         \"Math\": 88,\n",
    "         \"Gym\": 69,\n",
    "         \"Science\": 75}\n",
    "\n",
    "c1 = SchoolData(\"Caitlyn Zhu\", \"03/19/2000\", class1)\n",
    "print(c1.gpa())\n",
    "c1.changename()\n",
    "c1.changebirthday()\n",
    "c1.displayinfo()"
   ]
  },
  {
   "cell_type": "code",
   "execution_count": 1,
   "id": "8d169698",
   "metadata": {},
   "outputs": [
    {
     "name": "stdout",
     "output_type": "stream",
     "text": [
      "You have 6 guesses left.\n",
      "_ _ _ _ _ _ _\n",
      "Please give a guess: t\n",
      "You have 5 guesses left.\n",
      "_ _ _ _ _ _ _\n",
      "Please give a guess: n\n",
      "You have 4 guesses left.\n",
      "_ _ _ _ _ _ _\n",
      "Please give a guess: e\n",
      "You have 4 guesses left.\n",
      "e _ _ _ _ _ e\n",
      "Please give a guess: x\n",
      "You have 4 guesses left.\n",
      "e x _ _ _ _ e\n",
      "Please give a guess: r\n",
      "You have 3 guesses left.\n",
      "e x _ _ _ _ e\n",
      "Please give a guess: r\n",
      "You have 2 guesses left.\n",
      "e x _ _ _ _ e\n",
      "Please give a guess: q\n",
      "You have 1 guesses left.\n",
      "e x _ _ _ _ e\n",
      "Please give a guess: p\n",
      "You have 1 guesses left.\n",
      "e x _ _ p _ e\n",
      "Please give a guess: l\n",
      "You have 1 guesses left.\n",
      "e x _ _ p l e\n",
      "Please give a guess: a\n",
      "You have 1 guesses left.\n",
      "e x a _ p l e\n",
      "Please give a guess: m\n",
      "You won! The word was example\n"
     ]
    }
   ],
   "source": [
    "#Excercise 6\n",
    "\n",
    "#when we working on this code in this class in partners, i collaborated with Nagima Dubanaeva, a lot of this code is based off of her work as she shared me a file she worked on previously\n",
    "#i just consolidated it\n",
    "import random\n",
    "wordGenerator = ['catcaller', 'computer', 'lifevest', 'project', 'example', 'soccer', 'abandon', 'abysmal', 'apples', 'eggs']\n",
    "word = random.choice(wordGenerator)\n",
    "output = []\n",
    "\n",
    "x = 1\n",
    "\n",
    "value = 1\n",
    "\n",
    "\n",
    "\n",
    "def fix_output():\n",
    "    while len(output) < len(word):\n",
    "        output.append('_')\n",
    "\n",
    "def game():\n",
    "    fix_output()\n",
    "    guess = 0\n",
    "    while guess < 6:\n",
    "        a = 0\n",
    "        print (\"You have \" + str(6 - guess) + \" guesses left.\")\n",
    "        print(' '.join(output))\n",
    "        x = input(\"Please give a guess: \")\n",
    "        if x.isalpha() == False or (len(x) != 1 and len(x) != len(word)):\n",
    "            print (\"That is either not a letter or not the proper word length. Try again.\")\n",
    "            a = 1\n",
    "        elif len(x) == 1:\n",
    "            y = 0\n",
    "            while y < len(word):\n",
    "                if x == word[y]:\n",
    "                    a = 1\n",
    "                    output[y] = x      \n",
    "                y = y + 1\n",
    "        elif x == word:\n",
    "            return 1\n",
    "        if a != 1:\n",
    "            guess = guess + 1\n",
    "        if ''.join(output) == word:\n",
    "            print(\"You won! The word was \" + word)\n",
    "            break\n",
    "        elif guess == 6:\n",
    "            print(\"You lose ):\")\n",
    "            break \n",
    "\n",
    "        \n",
    "game()\n",
    "\n",
    "#first of all, working with people in class really helped me speed up the \"warming up\" process of coding because combining our ideas only lead to the unlocking od new ideas\n",
    "#this excercise helpted me refresh how if else statements and loops interacted. it also helped me figure out how to \"display\" things"
   ]
  },
  {
   "cell_type": "code",
   "execution_count": null,
   "id": "f0eb59d6",
   "metadata": {},
   "outputs": [],
   "source": []
  }
 ],
 "metadata": {
  "kernelspec": {
   "display_name": "Python 3 (ipykernel)",
   "language": "python",
   "name": "python3"
  },
  "language_info": {
   "codemirror_mode": {
    "name": "ipython",
    "version": 3
   },
   "file_extension": ".py",
   "mimetype": "text/x-python",
   "name": "python",
   "nbconvert_exporter": "python",
   "pygments_lexer": "ipython3",
   "version": "3.9.12"
  }
 },
 "nbformat": 4,
 "nbformat_minor": 5
}
