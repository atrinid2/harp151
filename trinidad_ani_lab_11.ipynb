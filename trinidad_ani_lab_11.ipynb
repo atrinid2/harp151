{
 "cells": [
  {
   "cell_type": "code",
   "execution_count": 5,
   "id": "ca80a839",
   "metadata": {},
   "outputs": [],
   "source": []
  },
  {
   "cell_type": "code",
   "execution_count": 31,
   "id": "d14a7d8d",
   "metadata": {},
   "outputs": [
    {
     "name": "stdout",
     "output_type": "stream",
     "text": [
      "The crew of a spacecraft encounter a deadly lifeform after investigating a transmission.\n",
      "Benedict Cumberbatch\n"
     ]
    }
   ],
   "source": [
    "import random\n",
    "from tkinter import *\n",
    "import requests\n",
    "\n",
    "url = \"https://the-trivia-api.com/api/questions?categories=film_and_tv&limit=10&region=US&difficulty=easy\"\n",
    "get_request = requests.get(url).json()\n",
    "get_request\n",
    "display_poss = []\n",
    "rightanswers = {}\n",
    "wronganswers = {}\n",
    "for i in get_request:\n",
    "    display_poss.append(i[\"question\"])\n",
    "    wronganswers[i[\"question\"]] = i[\"incorrectAnswers\"]\n",
    "    rightanswers[i[\"question\"]] = i[\"correctAnswer\"]\n",
    "\n",
    "\n",
    "root = Tk()\n",
    "root.title(\"Trivia\")\n",
    "root.geometry(\"1000x800\")\n",
    "\n",
    "canvas = Canvas(root, width=800, height=250, bg=\"khaki1\")\n",
    "canvas.place(relx=.5, rely=.5,anchor= CENTER)\n",
    "\n",
    "game_display = canvas.create_text(200, 100, text=\"\", fill=\"black\", font=('Helvetica 15 bold'))\n",
    "\n",
    "feedback = Label(root, text=\"\", pady=10, font=(\"arial\", 15, \"bold\"))\n",
    "scorelabel = Label(root, text = score)\n",
    "\n",
    "\n",
    "score = 0\n",
    "\n",
    "user_answer = StringVar()\n",
    "user_answer.set(\"\")\n",
    "\n",
    "def currentanswer():\n",
    "    global realanswer, question, wronganswers, choices\n",
    "    question = random.choice(display_poss)\n",
    "    realanswer = rightanswers[question]\n",
    "    print(realanswer)\n",
    "    wronganswersreal = wronganswers[question]\n",
    "    wronganswersreal.append(realanswer)\n",
    "    canvas.itemconfig(game_display, text=question, width=300)\n",
    "    return wronganswersreal\n",
    "   \n",
    "  #refrenced from dr. gibsons code\n",
    "\n",
    "def gen_radiobuttons(answers):\n",
    "    y_pos = 100\n",
    "    for i in answers:\n",
    "        rad_btn = Radiobutton(canvas, text=i, variable=user_answer, command=makechoice, value=i, font=('Helvetica 10 bold'))\n",
    "        rad_btn.place(x=50, y=y_pos)\n",
    "        y_pos+=20\n",
    "    \n",
    "def makechoice():\n",
    "    userchoice = user_answer.get()\n",
    "    if userchoice == realanswer:\n",
    "        global score\n",
    "        score = score =+ 1\n",
    "        feedback[\"text\"] = \"Correct!\"\n",
    "        feedback.place(x=400, y=500)\n",
    "    else:\n",
    "        feedback[\"text\"] = \"Incorrect\"\n",
    "        feedback.place(x=400, y=500)\n",
    "\n",
    "def change():\n",
    "    gen_radiobuttons(currentanswer())\n",
    "\n",
    "changebutton = Button(root, text = \"Change Question\", command = change)\n",
    "\n",
    "change()\n",
    "changebutton.pack()\n",
    "scorelabel.pack()\n",
    "root.mainloop()\n"
   ]
  },
  {
   "cell_type": "code",
   "execution_count": null,
   "id": "01acd176",
   "metadata": {},
   "outputs": [],
   "source": []
  }
 ],
 "metadata": {
  "kernelspec": {
   "display_name": "Python 3 (ipykernel)",
   "language": "python",
   "name": "python3"
  },
  "language_info": {
   "codemirror_mode": {
    "name": "ipython",
    "version": 3
   },
   "file_extension": ".py",
   "mimetype": "text/x-python",
   "name": "python",
   "nbconvert_exporter": "python",
   "pygments_lexer": "ipython3",
   "version": "3.9.12"
  }
 },
 "nbformat": 4,
 "nbformat_minor": 5
}
