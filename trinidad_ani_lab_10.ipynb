{
 "cells": [
  {
   "cell_type": "code",
   "execution_count": 1,
   "id": "18fffabc",
   "metadata": {},
   "outputs": [],
   "source": [
    "from tkinter import * \n",
    "w = Tk()\n",
    "import requests\n",
    "import json\n"
   ]
  },
  {
   "cell_type": "markdown",
   "id": "c74c89ba",
   "metadata": {},
   "source": [
    "Question 1"
   ]
  },
  {
   "cell_type": "code",
   "execution_count": null,
   "id": "4e437605",
   "metadata": {},
   "outputs": [],
   "source": [
    "data = requests.get(\"https://api.quotable.io/random\").json()\n",
    "i = 0\n",
    "authors = []\n",
    "quotes = {}\n",
    "while i < 5:\n",
    "    data = requests.get(\"https://api.quotable.io/random\").json()\n",
    "    authors.append(data[\"author\"])\n",
    "    quotes[data[\"author\"]] = data[\"content\"]\n",
    "    i += 1\n",
    "\n",
    "root = Tk()\n",
    "root.title(\"Quote Dropdown\")\n",
    "root.geometry(\"600x400\")\n",
    "\n",
    "def reset():\n",
    "    i = 0\n",
    "    authors = []\n",
    "    quotes = {}\n",
    "    while i < 5:\n",
    "        data = requests.get(\"https://api.quotable.io/random\").json()\n",
    "        authors.append(data[\"author\"])\n",
    "        quotes[data[\"author\"]] = data[\"content\"]\n",
    "        i += 1\n",
    "    drop = OptionMenu(root, value, *authors)\n",
    "    drop.grid(row = 1, column = 1)\n",
    "    \n",
    "def chosen():\n",
    "    textbox.delete(0.0, END)\n",
    "    choice = value.get()\n",
    "    quote_act = quotes[choice]\n",
    "    textbox.insert(END, quote_act)\n",
    "\n",
    "\n",
    "    \n",
    "value = StringVar()\n",
    "\n",
    "drop = OptionMenu(root, value, *authors)\n",
    "choose_button = Button(root, text = \"Click to choose\", command = chosen)\n",
    "textbox = Text(root, font = \"Elephant\", height = 4, width = 80)\n",
    "reset = Button(root, text = \"Reset Options\", command = reset)\n",
    "\n",
    "drop.grid(row = 1, column = 1)\n",
    "textbox.grid(row = 2, column = 1)\n",
    "choose_button.grid(row = 3, column = 1)\n",
    "reset.grid(row = 4, column = 1)\n",
    "root.mainloop()"
   ]
  },
  {
   "cell_type": "markdown",
   "id": "7fe5cba1",
   "metadata": {},
   "source": [
    "Question 2"
   ]
  },
  {
   "cell_type": "code",
   "execution_count": 30,
   "id": "29176340",
   "metadata": {},
   "outputs": [
    {
     "name": "stdout",
     "output_type": "stream",
     "text": [
      "[37, 50, 33, 56, 38, 73, 53, 81, 54, 75, 47, 58, 37, 52] ['Tonight', 'Tuesday', 'Tuesday Night', 'Wednesday', 'Wednesday Night', 'Thursday', 'Thursday Night', 'Friday', 'Friday Night', 'Saturday', 'Saturday Night', 'Sunday', 'Sunday Night', 'Monday'] ['Chance Rain Showers', 'Chance Rain And Snow Showers', 'Slight Chance Rain And Snow Showers then Mostly Cloudy', 'Mostly Sunny', 'Partly Cloudy then Chance Rain Showers', 'Chance Rain Showers', 'Partly Cloudy', 'Mostly Sunny then Chance Rain Showers', 'Chance Rain Showers', 'Rain Showers Likely', 'Rain Showers Likely', 'Chance Rain Showers', 'Chance Rain Showers', 'Slight Chance Rain And Snow Showers']\n"
     ]
    }
   ],
   "source": [
    "import requests\n",
    "import json\n",
    "import csv\n",
    "import pandas as pd\n",
    "\n",
    "lat = \"42.098701\"\n",
    "lon = \"-75.912537\"\n",
    "url = f\"https://api.weather.gov/points/{lat},{lon}\"\n",
    "\n",
    "\n",
    "weather = requests.get(url)\n",
    "file = weather.json()\n",
    "forecast_file = file[\"properties\"]\n",
    "forecast = forecast_file['forecast']\n",
    "new_url = forecast\n",
    "weather_fr = requests.get(new_url)\n",
    "file2 = weather_fr.json()\n",
    "file2\n",
    "one = file2[\"properties\"]\n",
    "two = one[\"periods\"]\n",
    "\n",
    "icon = []\n",
    "temp = []\n",
    "day = []\n",
    "forecast = []\n",
    "\n",
    "for i in two:\n",
    "    temp.append(i[\"temperature\"])\n",
    "    day.append(i[\"name\"])\n",
    "    forecast.append(i[\"shortForecast\"])\n",
    "    \n",
    "print(temp, day, forecast)"
   ]
  },
  {
   "cell_type": "code",
   "execution_count": 29,
   "id": "67549ea1",
   "metadata": {},
   "outputs": [],
   "source": [
    "root = Tk()\n",
    "root.title(\"Weather\")\n",
    "\n",
    "labelframe = LabelFrame(root, text=\"Weather For The Week\") #new widget, learned from https://www.tutorialspoint.com/python/tk_labelframe.htm\n",
    "labelframe.pack(fill=\"both\", expand=\"yes\")\n",
    "\n",
    "\n",
    "\n",
    "for i in range(0,14):\n",
    "    labeltemp = Label(labelframe, text = temp[i])\n",
    "    labelday = Label(labelframe, text = day[i])\n",
    "    labelforecast = Label(labelframe, text = forecast[i])\n",
    "    if i%2 == 0:\n",
    "        if i == 0:\n",
    "            labeltemp.grid(row = 2, column = i)\n",
    "            labelday.grid(row = 1, column = i)\n",
    "            labelforecast.grid(row = 3, column = i)\n",
    "        else:\n",
    "            num = i - 1\n",
    "            labeltemp.grid(row = 2, column = num)\n",
    "            labelday.grid(row = 1, column = num)\n",
    "            labelforecast.grid(row = 3, column = num)\n",
    "    else:\n",
    "        if i == 1:  \n",
    "            labeltemp.grid(row = 8, column = i-1)\n",
    "            labelday.grid(row = 7, column = i-1)\n",
    "            labelforecast.grid(row = 9, column = i-1)\n",
    "        else:\n",
    "            num = i-2\n",
    "            labeltemp.grid(row = 8, column = num)\n",
    "            labelday.grid(row = 7, column = num)\n",
    "            labelforecast.grid(row = 9, column = num)\n",
    "        \n",
    "root.mainloop()"
   ]
  },
  {
   "cell_type": "code",
   "execution_count": null,
   "id": "a03f6127",
   "metadata": {},
   "outputs": [],
   "source": []
  }
 ],
 "metadata": {
  "kernelspec": {
   "display_name": "Python 3 (ipykernel)",
   "language": "python",
   "name": "python3"
  },
  "language_info": {
   "codemirror_mode": {
    "name": "ipython",
    "version": 3
   },
   "file_extension": ".py",
   "mimetype": "text/x-python",
   "name": "python",
   "nbconvert_exporter": "python",
   "pygments_lexer": "ipython3",
   "version": "3.9.12"
  }
 },
 "nbformat": 4,
 "nbformat_minor": 5
}
