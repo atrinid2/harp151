{
  "nbformat": 4,
  "nbformat_minor": 0,
  "metadata": {
    "colab": {
      "provenance": [],
      "include_colab_link": true
    },
    "kernelspec": {
      "name": "python3",
      "display_name": "Python 3"
    },
    "language_info": {
      "name": "python"
    }
  },
  "cells": [
    {
      "cell_type": "markdown",
      "metadata": {
        "id": "view-in-github",
        "colab_type": "text"
      },
      "source": [
        "<a href=\"https://colab.research.google.com/github/atrinid2/harp151/blob/main/151_Data_Refresher.ipynb\" target=\"_parent\"><img src=\"https://colab.research.google.com/assets/colab-badge.svg\" alt=\"Open In Colab\"/></a>"
      ]
    },
    {
      "cell_type": "code",
      "execution_count": null,
      "metadata": {
        "id": "B2Vuzs5p1T7v"
      },
      "outputs": [],
      "source": [
        "import pandas as pd\n",
        "import csv\n",
        "import seaborn as sns"
      ]
    },
    {
      "cell_type": "code",
      "source": [
        "df = pd.read_csv(\"BicycleParking.csv\") #df typically stands for dataframe\n",
        "df"
      ],
      "metadata": {
        "id": "2VUv079z1ZZT"
      },
      "execution_count": null,
      "outputs": []
    },
    {
      "cell_type": "code",
      "source": [
        "df.describe()\n",
        "#returns info for any numerical column"
      ],
      "metadata": {
        "id": "BGwqM-2_1cyW"
      },
      "execution_count": null,
      "outputs": []
    },
    {
      "cell_type": "code",
      "source": [
        "df.head(10)\n",
        "#returns top ten, can use .tail() to return bottom\n",
        "#notice the NaN values, that means \"Not a Number\""
      ],
      "metadata": {
        "id": "P5i1S9nY1fZk"
      },
      "execution_count": null,
      "outputs": []
    },
    {
      "cell_type": "code",
      "source": [
        "df.dtypes #shows data types\n",
        "#object means it's a string "
      ],
      "metadata": {
        "id": "Qyda2LrR1hIR"
      },
      "execution_count": null,
      "outputs": []
    },
    {
      "cell_type": "code",
      "source": [
        "df.columns #shows us our columns as well"
      ],
      "metadata": {
        "id": "w-NAi_fD3JLz"
      },
      "execution_count": null,
      "outputs": []
    },
    {
      "cell_type": "code",
      "source": [
        "#check to see if there are any null values\n",
        "\n",
        "cols = df.columns #creating a list of columns\n",
        "sns.heatmap(df[cols].isnull()) #checking for null values "
      ],
      "metadata": {
        "id": "7Eweg3iP1jXO"
      },
      "execution_count": null,
      "outputs": []
    },
    {
      "cell_type": "code",
      "source": [
        "df_2 = df.copy()\n",
        "\n",
        "df_2.dropna()\n",
        "#notice that we've lost a TON of data, maybe that isn't the best move!"
      ],
      "metadata": {
        "id": "Ne0lEMEe26JV"
      },
      "execution_count": null,
      "outputs": []
    },
    {
      "cell_type": "code",
      "source": [
        "#instead, let's fill those NaN values\n",
        "#the \"street on\" column seems most appropriate for now \n",
        "\n",
        "df[\"STREETON\"] = df[\"STREETON\"].fillna(\"No Street Specified\")"
      ],
      "metadata": {
        "id": "1OqWUDJ036e6"
      },
      "execution_count": null,
      "outputs": []
    },
    {
      "cell_type": "code",
      "source": [
        "#checking one more time \n",
        "\n",
        "cols = df.columns\n",
        "sns.heatmap(df[cols].isnull())"
      ],
      "metadata": {
        "id": "wfoEEHGz4U7V"
      },
      "execution_count": null,
      "outputs": []
    },
    {
      "cell_type": "code",
      "source": [
        "#now it's probably better to work with a slightly smaller set of columns\n",
        "#because so many of them do not have information that is relevant to us \n",
        "\n",
        "df_3 = df.copy()\n",
        "\n",
        "df_3.drop(labels = [\"the_geom\", \"REQBBL\", \"OBJECTID\", \"SIDE\", \"INTERNALID\", \"HrcEvac\", \"FEMAFldz\", \"FEMAFldT\"], axis=1, inplace=True)\n",
        "# axis=1 tells it to drop columns, the inplace=True has it affect the df itself\n",
        "\n",
        "df_3"
      ],
      "metadata": {
        "id": "qd6Afx911lRD"
      },
      "execution_count": null,
      "outputs": []
    },
    {
      "cell_type": "code",
      "source": [
        "#Let's say we're not interested in knowing the exact data of the install for the bikes\n",
        "#the current column, DATE_INST, has a lot of info we do not want\n",
        "#let's clean that data so we could evaluate how many places were installed based on the year\n",
        "\n",
        "#this data is structured in a way that is a clear pattern, so we can simply slice out\n",
        "#what we need by determining the appropriate indecies\n",
        "\n",
        "df_3.DATE_INST = df_3.DATE_INST.str[6:10] \n",
        "df_3.DATE_INST"
      ],
      "metadata": {
        "id": "H9Truc_y5DPS"
      },
      "execution_count": null,
      "outputs": []
    },
    {
      "cell_type": "code",
      "source": [
        "#if we wanted to do something a little more complex, like remove all the numbers\n",
        "#from the street adresses (let's say the address, not the street number, matters)\n",
        "#then we could use something called regular expressions\n",
        "#these seem complex but they're just patterns to memorize\n",
        "#see to learn more https://regexone.com/\n",
        "#(let's pretend that column doesn't already exist in the data set)\n",
        "\n",
        "df_3.IFOADDRESS = df_3.IFOADDRESS.str.replace('\\d+', '') #this just means replace all digits with nothing\n",
        "df_3"
      ],
      "metadata": {
        "id": "ZpUrRf9m_TBr"
      },
      "execution_count": null,
      "outputs": []
    },
    {
      "cell_type": "code",
      "source": [
        "#let's do one basic thing, let's count how many bikes each boro has\n",
        "#the name of that column is BoroName\n",
        "\n",
        "bikes = df_3[\"BoroName\"]\n",
        "bike_dict = {}\n",
        "\n",
        "for i in bikes:\n",
        "  if i not in bike_dict:\n",
        "    bike_dict[i] =1\n",
        "  else:\n",
        "    bike_dict[i] += 1\n",
        "\n",
        "print(bike_dict)\n",
        "#our dictionary output could then be used to visualize something or be used in a different way "
      ],
      "metadata": {
        "id": "F-GoILWv1nVf"
      },
      "execution_count": null,
      "outputs": []
    },
    {
      "cell_type": "code",
      "source": [
        "#we can use basically the same code to find out how many racks were put in on what year\n",
        "\n",
        "installed = df_3[\"DATE_INST\"]\n",
        "installed_dict = {}\n",
        "\n",
        "for i in installed:\n",
        "  if i not in installed_dict:\n",
        "    installed_dict[i] =1\n",
        "  else:\n",
        "    installed_dict[i] += 1\n",
        "\n",
        "installed_dict\n",
        "\n",
        "#we get a dictionary that works but isn't perfect"
      ],
      "metadata": {
        "id": "0S5tVFDu7n4H"
      },
      "execution_count": null,
      "outputs": []
    },
    {
      "cell_type": "code",
      "source": [
        "#We can update a few things for a better result\n",
        "\n",
        "df_3.DATE_INST = df_3.DATE_INST.fillna(\"No Date\")\n",
        "df_3 = df_3.sort_values(\"DATE_INST\", ascending=True)\n",
        "\n",
        "df_3"
      ],
      "metadata": {
        "id": "XCyLIUwS8VQ2"
      },
      "execution_count": null,
      "outputs": []
    },
    {
      "cell_type": "code",
      "source": [
        "installed = df_3[\"DATE_INST\"]\n",
        "installed_dict = {}\n",
        "\n",
        "for i in installed:\n",
        "  if i == \"No Date\":\n",
        "    pass\n",
        "  elif i not in installed_dict:\n",
        "    installed_dict[i] =1\n",
        "  else:\n",
        "    installed_dict[i] += 1\n",
        "\n",
        "installed_dict"
      ],
      "metadata": {
        "id": "zmcLGH8k9ofH"
      },
      "execution_count": null,
      "outputs": []
    }
  ]
}